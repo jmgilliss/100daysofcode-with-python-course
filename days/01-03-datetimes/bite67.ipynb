{
 "cells": [
  {
   "cell_type": "code",
   "execution_count": 35,
   "metadata": {},
   "outputs": [],
   "source": [
    "from datetime import datetime, date, timedelta\n",
    "import pytest\n",
    "\n",
    "start_100days = date(2017, 3, 30)\n",
    "pybites_founded = date(2016, 12, 19)\n",
    "pycon_date = date(2018, 5, 8)\n",
    "\n",
    "\n",
    "def get_hundred_days_end_date():\n",
    "    end_time = start_100days + timedelta(days=100)\n",
    "    return str(end_time)\n",
    "\n",
    "\n",
    "    \n",
    "def get_days_between_pb_start_first_joint_pycon(): \n",
    "    \n",
    "    resultstr = pycon_date - pybites_founded\n",
    "    result = resultstr.days\n",
    "    \n",
    "    \"\"\"Return the int number of days\"\"\"\n",
    "    return int(result)"
   ]
  },
  {
   "cell_type": "code",
   "execution_count": 36,
   "metadata": {},
   "outputs": [
    {
     "data": {
      "text/plain": [
       "'2017-07-08'"
      ]
     },
     "execution_count": 36,
     "metadata": {},
     "output_type": "execute_result"
    }
   ],
   "source": [
    "get_hundred_days_end_date()"
   ]
  },
  {
   "cell_type": "code",
   "execution_count": 37,
   "metadata": {},
   "outputs": [
    {
     "data": {
      "text/plain": [
       "505"
      ]
     },
     "execution_count": 37,
     "metadata": {},
     "output_type": "execute_result"
    }
   ],
   "source": [
    "get_days_between_pb_start_first_joint_pycon()"
   ]
  }
 ],
 "metadata": {
  "kernelspec": {
   "display_name": "Python 3",
   "language": "python",
   "name": "python3"
  },
  "language_info": {
   "codemirror_mode": {
    "name": "ipython",
    "version": 3
   },
   "file_extension": ".py",
   "mimetype": "text/x-python",
   "name": "python",
   "nbconvert_exporter": "python",
   "pygments_lexer": "ipython3",
   "version": "3.7.6"
  }
 },
 "nbformat": 4,
 "nbformat_minor": 2
}
